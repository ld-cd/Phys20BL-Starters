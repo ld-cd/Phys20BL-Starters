{
 "cells": [
  {
   "cell_type": "markdown",
   "metadata": {
    "id": "XiFLQl4PT3_R"
   },
   "source": [
    "## 20AL Throwback: Week 5 Spring Coefficient Answer Guide\n",
    "\n",
    "This should serve as a guide for how to do calculations, observations and find uncertainties in all future after labs. "
   ]
  },
  {
   "cell_type": "code",
   "execution_count": null,
   "metadata": {
    "id": "3r-bH9sYTw2z"
   },
   "outputs": [],
   "source": [
    "# standard library imports\n",
    "\n",
    "import numpy as np\n",
    "import scipy as sp\n",
    "import scipy.stats as stats  \n",
    "from scipy.optimize import curve_fit #we use this for fitting a line\n",
    "import matplotlib.pyplot as plt\n",
    "\n",
    "# Make plots look good\n",
    "plt.rcParams[\"figure.figsize\"] = (8, 8)\n",
    "plt.rcParams[\"xtick.minor.visible\"] =  True\n",
    "plt.rcParams[\"ytick.minor.visible\"] = True\n",
    "plt.rcParams[\"xtick.top\"] = True\n",
    "plt.rcParams[\"ytick.right\"] = True\n",
    "plt.rcParams[\"errorbar.capsize\"] = 4"
   ]
  },
  {
   "cell_type": "markdown",
   "metadata": {
    "id": "A69lbeCaV3u9"
   },
   "source": [
    "#### Processing Raw Data into Usable Arrays"
   ]
  },
  {
   "cell_type": "code",
   "execution_count": null,
   "metadata": {
    "id": "bZ4Wk2GSVkaa"
   },
   "outputs": [],
   "source": [
    "# adding in our data\n",
    "# For this document we made up our data \n",
    "\n",
    "#Raw Data Stationary\n",
    "x0 = np.array([18.6, 18.7, 18.7, 18.5, 18.65]) / 100\n",
    "x250 = np.array([59.4, 59.55, 59.5, 59.4, 59.45]) / 100\n",
    "x100 = np.array([41.7, 41.8, 41.8, 41.85, 41.8]) / 100\n",
    "x150 = np.array([47.7, 47.65, 47.8, 47.75, 47.7]) / 100\n",
    "x200 = np.array([53.6, 53.5, 53.45, 53.6, 53.55]) / 100\n",
    "x300 = np.array([65.4, 65.3, 65.35, 65.35, 65.4]) / 100\n",
    "\n",
    "disp_mass = np.array([100, 149.2, 199.4, 250.3, 300.2]) / 1000\n",
    "#We neglect mass uncertainty since it is on the x-axis\n",
    "\n",
    "#Raw data Oscillations\n",
    "p100 = np.array([0.818, 0.824, 0.832, 0.82, 0.814])\n",
    "p200 = np.array([1.088, 1.08, 1.07, 1.07, 1.06])\n",
    "p150 = np.array([0.97, 0.95, 0.958, 0.964, 0.968])\n",
    "p50 = np.array([0.63, 0.626, 0.668, 0.632, 0.643])\n",
    "p250 = np.array([1.194, 1.186, 1.182, 1.188, 1.194])\n",
    "\n",
    "period_mass = np.array([49.8, 100, 149.2, 199.4, 250.3]) / 1000"
   ]
  },
  {
   "cell_type": "markdown",
   "metadata": {
    "id": "nxDXnF8cC2q6"
   },
   "source": [
    "Below I make the arrays I will do the rest of my data analysis on. I also do some slight error propogation using: \n",
    "\n",
    "Uncertainty of my displacement measurement $ = \\sigma_{\\Delta x_i}  = \\sqrt{RMSD(x_i)^2+RMSD(x_{m=0})} $ where x_i is each of my data sets for the different masses. \n",
    "\n",
    "Since the uncertainty of each of my period data sets is simply the RMSD I do not have to propogate any uncertainty though it.  "
   ]
  },
  {
   "cell_type": "code",
   "execution_count": null,
   "metadata": {
    "colab": {
     "base_uri": "https://localhost:8080/"
    },
    "id": "yDVf0EZMC5g0",
    "outputId": "b8079359-3634-47c9-bf55-77bcd6b32388"
   },
   "outputs": [
    {
     "name": "stdout",
     "output_type": "stream",
     "text": [
      "displacement averages for each mass [0.2316 0.2909 0.3491 0.4083 0.4673]\n",
      "uncertainty of the displacement for each mass [0.001      0.00101242 0.00106066 0.00106066 0.00093541]\n",
      "average period for each mass [0.6398 0.8216 0.962  1.0736 1.1888]\n",
      "uncertainty of the period for each mass [0.01697645 0.00684105 0.00812404 0.01071448 0.00521536]\n"
     ]
    }
   ],
   "source": [
    "#Making Usable Arrays\n",
    "x_init = np.mean(x0)\n",
    "\n",
    "#here I do some slight error propogation using \n",
    "disp_means = np.array([np.mean(x100), np.mean(x150), np.mean(x200), np.mean(x250), np.mean(x300)])- x_init\n",
    "disp_rmsds = np.sqrt(np.array([np.std(i, ddof = 1) for i in [x100, x150, x200, x250, x300]])**2+np.std(x0, ddof = 1)**2)\n",
    "\n",
    "period_means = np.array([np.mean(i) for i in [p50, p100, p150, p200, p250]])\n",
    "period_rmsds = np.array([np.std(i, ddof = 1) for i in [p50, p100, p150, p200, p250]])\n",
    "\n",
    "#Check to make sure our math makes sense\n",
    "print(\"displacement averages for each mass\", disp_means)\n",
    "print(\"uncertainty of the displacement for each mass\", disp_rmsds)\n",
    "\n",
    "print(\"average period for each mass\", period_means)\n",
    "print(\"uncertainty of the period for each mass\", period_rmsds)"
   ]
  },
  {
   "cell_type": "markdown",
   "metadata": {
    "id": "xEkub334hdeH"
   },
   "source": [
    "#### Initial $k$ Estimate\n",
    "\n",
    "Because we have constructed our experiment so that with zero mass $\\Delta x$ should be zero, we can make a quick estimate of $k$ from our displacements.\n",
    "\n",
    "Because we're just doing a quick estimate we don't *need* to compute the RMSD but as a quick excercise to show you how to do it, we have\n",
    "\n",
    "$$\n",
    "k=\\frac{gm}{\\Delta x}\n",
    "$$\n",
    "\n",
    "So\n",
    "\n",
    "$$\n",
    "\\delta k = \\sqrt{\\left(\\frac{m}{\\Delta x}\\delta g\\right)^2 + \\left( \\frac{gm}{ \\Delta x^2}\\delta x \\right)^2 }\n",
    "$$"
   ]
  },
  {
   "cell_type": "code",
   "execution_count": null,
   "metadata": {
    "colab": {
     "base_uri": "https://localhost:8080/",
     "height": 533
    },
    "id": "lJ2s9EhZVzkj",
    "outputId": "1537e4d8-0ce8-4a60-c1ba-7cefe4e463e7"
   },
   "outputs": [
    {
     "name": "stdout",
     "output_type": "stream",
     "text": [
      "5.429524104971446 0.8228693669541688\n"
     ]
    },
    {
     "data": {
      "image/png": "[encoded data removed]",
      "text/plain": [
       "<Figure size 576x576 with 1 Axes>"
      ]
     },
     "metadata": {
      "needs_background": "light"
     },
     "output_type": "display_data"
    }
   ],
   "source": [
    "g = 9.796\n",
    "g_sig = 0.03\n",
    "\n",
    "k_est = g*disp_mass/disp_means\n",
    "k_est_sig = disp_mass*np.sqrt(g_sig**2 + (g**2)*(disp_rmsds**2)/(disp_means**2))/disp_means\n",
    "\n",
    "plt.figure()\n",
    "plt.errorbar(disp_mass, k_est, k_est_sig, fmt='^')\n",
    "\n",
    "plt.ylabel(r\"Estimated $k$ ($N/m$)\")\n",
    "plt.xlabel(\"Mass (kg)\")\n",
    "plt.figtext(.5, .05, r\"An estimate of $k$ from each displacement assuming we've gotten $\\Delta x$ right and our linear model holds\", ha='center')\n",
    "\n",
    "print(np.mean(k_est), np.std(k_est, ddof = 1))"
   ]
  },
  {
   "cell_type": "markdown",
   "metadata": {
    "id": "c8wS2Q8Qn1bP"
   },
   "source": [
    "The clear trendline in this graph tells us that we did not estimate $x_0$ correctly (and we clearly cannot do this for the period measuements because the spring has mass and will oscillate on its own so the intercept is guarenteed to be non-zero), but we can still recover $k$ by looking at the slope of |delta x vs mass since this does not assume the intercept as zero.\n",
    "\n",
    "#### Computing $k$ from Displacements"
   ]
  },
  {
   "cell_type": "code",
   "execution_count": null,
   "metadata": {
    "colab": {
     "base_uri": "https://localhost:8080/",
     "height": 618
    },
    "id": "fA18RF-zVzwr",
    "outputId": "e677cb29-da9f-4729-d014-351cd0094f55"
   },
   "outputs": [
    {
     "name": "stdout",
     "output_type": "stream",
     "text": [
      "[slope, y-intercept] = [A, B]: [1.17417459 0.11481774]\n",
      "[uncertainty of slope, uncertainty of y-intercept] = [sigmaA, sigmaB]: [0.00617516 0.00132594]\n",
      "k/g: 0.852 +- 0.004  Ns^2/m^2\n",
      "chi2: 1.358\n",
      "rchi2: 0.453\n",
      "chiprob: 0.715\n"
     ]
    },
    {
     "data": {
      "image/png": "[encoded data removed]",
      "text/plain": [
       "<Figure size 576x576 with 1 Axes>"
      ]
     },
     "metadata": {
      "needs_background": "light"
     },
     "output_type": "display_data"
    }
   ],
   "source": [
    "# this sets linmodel as a linear function y = Ax+B where A is the slope and B is the y-intercept\n",
    "linmodel = lambda x, A, B: A*x+B\n",
    "\n",
    "# This computes the best linear fit of our data to our model\n",
    "\n",
    "# p is the parameters that curve_fit calculated. It looks like p = [best fit slope, best fit y-intercept]\n",
    "\n",
    "# pcov is the covarient matrix of the best fit line. I know this sounds scary but the only thing you need to know about it  \n",
    "#   is that the square root of the diagonal of the matrix is the uncertainty of the parameters. \n",
    "p, pcov = curve_fit(linmodel, disp_mass, disp_means, p0 = [0, 0], sigma = disp_rmsds, absolute_sigma = True)\n",
    "p_sigma = np.sqrt(np.diagonal(pcov))\n",
    "\n",
    "# here we define our chi_squared function\n",
    "def chi_squared(x, y, y_sigma, model, model_params, ddof = 0):\n",
    "    statistic = np.sum(np.square((y - model(x, *model_params))/y_sigma))\n",
    "    dof = len(model_params)\n",
    "    return statistic, statistic/(len(y) - dof - ddof), len(y) - dof - ddof\n",
    "\n",
    "# here we calculate chi squared, reduced chi squared, and N\n",
    "chi, rchi, v = chi_squared(disp_mass, disp_means, disp_rmsds, linmodel, p)\n",
    "\n",
    "# below I start plotting our data\n",
    "plt.figure()\n",
    "plt.errorbar(disp_mass, disp_means, disp_rmsds*10, fmt = \"v\", label = \"Measured Displacements (Uncertainty x10)\")\n",
    "plt.plot(disp_mass, linmodel(disp_mass, *p), label = r\"Fitline ($\\chi^2 = {:.1f}$): $\\Delta x = {:.3f}m + {:.4f}$\".format(chi, *p))\n",
    "plt.legend()\n",
    "\n",
    "plt.figtext(.5, .05, r\"A best fit line to our mass vs displacement data showing that the releation is quite linear\", ha='center')\n",
    "\n",
    "plt.ylabel(r\"$\\Delta x$ (m)\")\n",
    "plt.xlabel(\"Mass (kg)\")\n",
    "\n",
    "print(\"[slope, y-intercept] = [A, B]:\", p)\n",
    "print(\"[uncertainty of slope, uncertainty of y-intercept] = [sigmaA, sigmaB]:\", p_sigma)\n",
    "\n",
    "print(\"k/g: {:.3f} +- {:.3f}  Ns^2/m^2\".format(1/p[0], p_sigma[0]/p[0]**2))\n",
    "\n",
    "print(\"chi2: {:.3f}\\nrchi2: {:.3f}\\nchiprob: {:.3f}\".format(chi, rchi, 1 - stats.chi2.cdf(chi, v)))"
   ]
  },
  {
   "cell_type": "markdown",
   "metadata": {
    "id": "cB1nMigospeR"
   },
   "source": [
    "With this data and fitline we got a reduced Chi-Squared statistic of $\\chi^2_\\nu = 0.45$ this initially seems quite low, but with the number of datapoints that we have the Chi-Squared cumulative distribution tells us that if our estimates of uncertainty are correct and our model is correct, there is a 28% ish chance that we would get a dataset with a value of $\\chi^2_\\nu$ this low which is well within the realm of possibility.\n",
    "\n",
    "Computing a value of $k$ with uncertainty from the slope of our best fit line ($A$) we have\n",
    "\n",
    "$$\n",
    "k=\\frac{g}{A}\n",
    "$$\n",
    "\n",
    "So\n",
    "\n",
    "$$\n",
    "\\delta k = \\frac{g}{A}\\sqrt{\\left(\\frac{\\delta g}{g}\\right)^2 + \\left(\\frac{\\delta A}{A}\\right)^2}\n",
    "$$"
   ]
  },
  {
   "cell_type": "code",
   "execution_count": null,
   "metadata": {
    "colab": {
     "base_uri": "https://localhost:8080/"
    },
    "id": "66SBXMzAVz9X",
    "outputId": "b0fd8c4f-2788-451a-956b-71a22640e99e"
   },
   "outputs": [
    {
     "name": "stdout",
     "output_type": "stream",
     "text": [
      "k = 8.34 +- 0.05 N/m\n"
     ]
    }
   ],
   "source": [
    "k_disp = g/p[0]\n",
    "k_disp_sigma = k_disp*np.sqrt((g_sig**2)/(g**2) + (p_sigma[0]**2)/(p[0]**2))\n",
    "\n",
    "print(\"k = {:.2f} +- {:.2f} N/m\".format(k_disp, k_disp_sigma))"
   ]
  },
  {
   "cell_type": "markdown",
   "metadata": {
    "id": "mZgoZxVuzSm2"
   },
   "source": [
    "This gives us a $k$ of \n",
    "\n",
    "$$\n",
    "k = 8.34 \\pm 0.05 \\text{    N/m}\n",
    "$$\n",
    "\n",
    "Always remember to report your vlaues with their associated uncertainties. "
   ]
  },
  {
   "cell_type": "markdown",
   "metadata": {
    "id": "ufqDDy9uLwy3"
   },
   "source": [
    "# T-Test Example\n",
    "\n",
    "T-Test between the spring constant calculated from the slope of the line and the spring constant calculated from the individual data points using the formula; $k = \\frac{Mg}{\\Delta x}$ for stationary points. \n",
    "\n",
    "Remember our formula for the t-test is: $$ T = \\frac{ \\bar x_1 - \\bar x_2}{\\sqrt{(\\sigma x_1)^2 + (\\sigma x_2)^2}} $$ \n",
    "\n",
    "Lets see if our stationary data points are different from the best fit line we found when we allowed the y-intercept to be non-zero.  \n",
    "\n",
    "Initial calculation where y-intercept  = 0:      \n",
    "We found this above in the cell labeled initial k measurement to be, \n",
    "\n",
    "```\n",
    "np.mean(k_est) \n",
    "np.std(k_est, ddof = 1)\n",
    "\n",
    "```\n",
    "$$ k = 5.4 ± 0.8 N/m$$\n",
    "\n",
    "Slope calculation where y-intercept $\\neq 0$:\n",
    "\n",
    "$$k = 8.34±0.05 N/m $$\n",
    " \n",
    "Plugging in these values we find:\n",
    "$$ T = 3.67  $$\n",
    "\n",
    "This tells us that our values are two separate measurements. But we know they are infact measured on the same spring. From this, I conlude that our model where we assume y-intercept = 0 to be untrue. We can see how the spring is not behaving as if it has zero mass as the y-int=0 model assumes. "
   ]
  }
 ],
 "metadata": {
  "colab": {
   "provenance": []
  },
  "kernelspec": {
   "display_name": "Python 3 (ipykernel)",
   "language": "python",
   "name": "python3"
  },
  "language_info": {
   "codemirror_mode": {
    "name": "ipython",
    "version": 3
   },
   "file_extension": ".py",
   "mimetype": "text/x-python",
   "name": "python",
   "nbconvert_exporter": "python",
   "pygments_lexer": "ipython3",
   "version": "3.11.1"
  }
 },
 "nbformat": 4,
 "nbformat_minor": 1
}
