{
 "cells": [
  {
   "cell_type": "code",
   "execution_count": null,
   "id": "c25ab91a",
   "metadata": {},
   "outputs": [],
   "source": [
    "import numpy as np\n",
    "import matplotlib.pyplot as plt\n",
    "\n",
    "# Make plots look good\n",
    "plt.rcParams[\"figure.figsize\"] = (8, 8)\n",
    "plt.rcParams[\"xtick.minor.visible\"] =  True\n",
    "plt.rcParams[\"ytick.minor.visible\"] = True\n",
    "plt.rcParams[\"xtick.top\"] = True\n",
    "plt.rcParams[\"ytick.right\"] = True\n",
    "plt.rcParams[\"errorbar.capsize\"] = 4\n",
    "\n",
    "# Import our custom library from parse_instek.py\n",
    "# I encourage you to look at the parser and see how it works\n",
    "from parse_instek import parse_instek\n",
    "\n",
    "# Because we don't know how to use this function we can use the ?\n",
    "# to open it's documentation (run this cell)\n",
    "parse_instek?"
   ]
  },
  {
   "cell_type": "markdown",
   "id": "ce571c4d",
   "metadata": {},
   "source": [
    "Now that we know how to use parse_instek by reading the documentation lets open some sample data (Remember to run the above cell):"
   ]
  },
  {
   "cell_type": "code",
   "execution_count": null,
   "id": "f0d087d2",
   "metadata": {},
   "outputs": [],
   "source": [
    "vs, ts, m = parse_instek(\"example-data/A0003CH1.CSV\")\n",
    "\n",
    "plt.figure()\n",
    "plt.plot(ts, vs)\n",
    "plt.xlabel(\"Time (s)\")\n",
    "plt.ylabel(\"Voltage (V)\")\n",
    "plt.xlim(-0.0004, 0.0004)\n",
    "\n",
    "m"
   ]
  },
  {
   "cell_type": "markdown",
   "id": "dbd5f269",
   "metadata": {},
   "source": [
    "We can see that the metadata dictionary contains a lot of useful information about how your probe was setup\n",
    "\n",
    "This is just an example square wave but you can import your data in the same way."
   ]
  }
 ],
 "metadata": {
  "kernelspec": {
   "display_name": "Python 3 (ipykernel)",
   "language": "python",
   "name": "python3"
  },
  "language_info": {
   "codemirror_mode": {
    "name": "ipython",
    "version": 3
   },
   "file_extension": ".py",
   "mimetype": "text/x-python",
   "name": "python",
   "nbconvert_exporter": "python",
   "pygments_lexer": "ipython3",
   "version": "3.11.1"
  }
 },
 "nbformat": 4,
 "nbformat_minor": 5
}
