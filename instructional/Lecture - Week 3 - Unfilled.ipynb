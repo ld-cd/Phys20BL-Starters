{
 "cells": [
  {
   "cell_type": "code",
   "execution_count": null,
   "id": "3d17bf2d-a9ed-47c6-b94d-75ff3c9c0897",
   "metadata": {},
   "outputs": [],
   "source": [
    "import scienceplots\n",
    "\n",
    "import numpy as np\n",
    "import matplotlib.pyplot as plt\n",
    "\n",
    "from scipy.optimize import curve_fit\n",
    "from scipy.integrate import solve_ivp\n",
    "\n",
    "%matplotlib inline\n",
    "\n",
    "plt.style.use('science')\n",
    "plt.rcParams['figure.dpi'] = 220\n",
    "plt.rcParams['figure.figsize'] = (6, 4)"
   ]
  },
  {
   "cell_type": "markdown",
   "id": "57f5e689-31cf-48a2-934f-4b2c6cdca412",
   "metadata": {},
   "source": [
    "# Some Python Arcana\n",
    "\n",
    "Like most programing languages Python is not always intuitive; the language itself is over 30 years old and it carries with it the baggage of over 60 years of programming language design. Lets start by looking at a few examples of this baggage which can both trip you up and be used to your advantage.\n",
    "\n",
    "## The Two Types of Types\n",
    "\n",
    "Python types are generally either what is called \"Mutable\" or \"Immutable\", or what other languages call \"Pass-by-Reference\" or \"Pass-by-Value\" respectively. `int`, `float` , `str`, and `tuple` are all examples of \"Immutable\" types and variables of these types generally act the way you would expect; that is when you go to change the value of a variable it is replaced with the new value:"
   ]
  },
  {
   "cell_type": "code",
   "execution_count": null,
   "id": "e059e3b7-d0e4-458b-aff0-c3390cde14bc",
   "metadata": {},
   "outputs": [],
   "source": []
  },
  {
   "cell_type": "markdown",
   "id": "0662ff7a-0697-413f-a8d7-29aa75e7733c",
   "metadata": {},
   "source": [
    "Variables containing \"Mutable\" are better thought of as bookmarks (or references) to the underlying data which they contain, the consequence of this being that multiple variables can contain the same bookmark, and changing the data behind one will be reflected when you use the other to look it up:"
   ]
  },
  {
   "cell_type": "code",
   "execution_count": null,
   "id": "08d17105-11c7-4115-bee0-2d51ab72d2b8",
   "metadata": {},
   "outputs": [],
   "source": []
  },
  {
   "cell_type": "code",
   "execution_count": null,
   "id": "b6a5298e-d26d-4cd9-8da7-bdf9f091e3a4",
   "metadata": {},
   "outputs": [],
   "source": []
  },
  {
   "cell_type": "markdown",
   "id": "b4074778-c1dd-4010-9532-3c1585316a94",
   "metadata": {},
   "source": [
    "You can of course replace a bookmark with another and this is effectively the same operation when you change a variable which contains an Immutable type:"
   ]
  },
  {
   "cell_type": "code",
   "execution_count": null,
   "id": "ddf69dad-e1ad-4076-802f-6dc04c1cf699",
   "metadata": {},
   "outputs": [],
   "source": []
  },
  {
   "cell_type": "markdown",
   "id": "0b12b796-8863-4f4b-8ee4-e21240c92751",
   "metadata": {},
   "source": [
    "## Function Names == Variable Names\n",
    "\n",
    "We often think of function names as a magical incantation, but really they're just a variable name that supports a `()` operation in the same way a list supports a `[]` operation. Let's see what this means in practice:"
   ]
  },
  {
   "cell_type": "code",
   "execution_count": null,
   "id": "43cb6837-7306-4e2d-9630-0a8195001546",
   "metadata": {},
   "outputs": [],
   "source": []
  },
  {
   "cell_type": "markdown",
   "id": "dd016c5e-5f4c-4d59-b4bc-4acf86189118",
   "metadata": {},
   "source": [
    "Which leads to two obvious questions:"
   ]
  },
  {
   "cell_type": "code",
   "execution_count": null,
   "id": "d842e62f-5f10-4bff-af3e-330e8cd6142f",
   "metadata": {},
   "outputs": [],
   "source": []
  },
  {
   "cell_type": "markdown",
   "id": "3c3747c4-7039-4283-b133-7bf9b6387966",
   "metadata": {},
   "source": [
    "We can also start to do crazy things like build functions to generate functions:"
   ]
  },
  {
   "cell_type": "code",
   "execution_count": null,
   "id": "20f0d3b1-8484-4e48-8e96-4779fbac8141",
   "metadata": {},
   "outputs": [],
   "source": []
  },
  {
   "cell_type": "code",
   "execution_count": null,
   "id": "743da7a6-5855-4fda-8e5d-f1ead7ea35dd",
   "metadata": {},
   "outputs": [],
   "source": []
  },
  {
   "cell_type": "code",
   "execution_count": null,
   "id": "1c0e0e38-7687-4a4a-95f6-34d5c76017f7",
   "metadata": {},
   "outputs": [],
   "source": []
  },
  {
   "cell_type": "markdown",
   "id": "53521198-982f-4e8f-91d3-a419e081cb59",
   "metadata": {},
   "source": [
    "Now you may have realized by now that we can have an integer (say `3`) without ever giving it a variable name, we do this all the time when we do math in python. Can we do the same with functions?"
   ]
  },
  {
   "cell_type": "code",
   "execution_count": null,
   "id": "7c4ca6d2-0708-4f57-bed5-ea9fd26ea3c8",
   "metadata": {},
   "outputs": [],
   "source": []
  },
  {
   "cell_type": "code",
   "execution_count": null,
   "id": "03755628-628f-49b5-8412-1dfc5f3d735f",
   "metadata": {},
   "outputs": [],
   "source": []
  },
  {
   "cell_type": "markdown",
   "id": "a14ba137-7454-4a85-9aa7-7e014fad4148",
   "metadata": {},
   "source": [
    "Of course if we ever want to give them a name we can:"
   ]
  },
  {
   "cell_type": "code",
   "execution_count": null,
   "id": "82d7cb2c-0084-4988-a1d0-611f5a367b4f",
   "metadata": {},
   "outputs": [],
   "source": []
  },
  {
   "cell_type": "markdown",
   "id": "f1ea2bc0-763c-49ef-a91d-298f11819650",
   "metadata": {},
   "source": [
    "# Fitting Nonlinear Things\n",
    "\n",
    "Now that we've done a bit of a python refresher lets try generating some data for a damped harmonic oscillator with $\\omega_0 = 44000$, $\\gamma = 4000$, and an offset of 5 and fitting a model to it:"
   ]
  },
  {
   "cell_type": "code",
   "execution_count": null,
   "id": "4de02bac-88f7-433d-afd7-2bed7e65bc1a",
   "metadata": {},
   "outputs": [],
   "source": [
    "# We'll talk about whats going on here later if we have time\n",
    "\n",
    "sol = solve_ivp(lambda _, y: [y[1], -(44000**2)*y[0] - 2*4000*y[1]], (0, 0.005), [1, 0], t_eval=np.linspace(0, 0.005, 1000))\n",
    "\n",
    "t, x = sol.t, sol.y[0,::]\n",
    "x_meas = x + np.random.normal(loc=0, scale=0.1, size=t.size) + 5\n",
    "\n",
    "plt.plot(t, x_meas, label=\"Measured Data\")\n",
    "plt.plot(t, x + 5, label='Clean Data')\n",
    "\n",
    "plt.legend()\n",
    "plt.xlabel('Time')\n",
    "plt.ylabel('Position')"
   ]
  },
  {
   "cell_type": "code",
   "execution_count": null,
   "id": "d4a85600-82e4-42e1-98d6-9865d811d14e",
   "metadata": {},
   "outputs": [],
   "source": []
  },
  {
   "cell_type": "code",
   "execution_count": null,
   "id": "66c2d0a4-07fa-4233-8be1-8abff976eff0",
   "metadata": {},
   "outputs": [],
   "source": [
    "plt.plot(t, x_meas, label=\"Measured Data\")\n",
    "\n",
    "\n",
    "plt.legend()\n",
    "plt.xlabel('Time')\n",
    "plt.ylabel('Position')"
   ]
  },
  {
   "cell_type": "markdown",
   "id": "61797969-0cc1-4a10-b2bf-71de4444a8c7",
   "metadata": {},
   "source": [
    "Well that didn't work, lets use some of the things we developed to try and see why:"
   ]
  },
  {
   "cell_type": "code",
   "execution_count": null,
   "id": "63d7f8f9-07a6-488f-8ebb-93c9c610796a",
   "metadata": {},
   "outputs": [],
   "source": []
  },
  {
   "cell_type": "markdown",
   "id": "726f8b65-d05a-483e-891e-757880d270af",
   "metadata": {},
   "source": [
    "And lets plot the progression of the fit (getting darker as the fit progresses):"
   ]
  },
  {
   "cell_type": "code",
   "execution_count": null,
   "id": "95c1ba1f-2847-4053-9f15-7faa25c09869",
   "metadata": {},
   "outputs": [],
   "source": [
    "plt.figure()\n",
    "for i, p in enumerate(h):\n",
    "    if i % 10:\n",
    "        plt.plot(t, model(t, *p), c = (0.9*np.array([1, 1, 1])*(len(h)-i)/len(h))**2)\n",
    "plt.ylim(0, 10)\n",
    "plt.plot(t, x_meas, lw=0.2)"
   ]
  },
  {
   "cell_type": "code",
   "execution_count": null,
   "id": "0293e2bc-cdfc-4fe2-af54-14bbbd27f676",
   "metadata": {},
   "outputs": [],
   "source": [
    "plt.plot(t, model(t, *h[0]))\n",
    "plt.plot(t, x_meas)"
   ]
  },
  {
   "cell_type": "markdown",
   "id": "5408692c-beb0-442e-9bca-f21537359292",
   "metadata": {},
   "source": [
    "Looking at the progression of the fit can anyone tell me what happened? How do we correct it?"
   ]
  },
  {
   "cell_type": "code",
   "execution_count": null,
   "id": "c127a2e1-87ba-4533-a14c-b2574f7e9c5e",
   "metadata": {},
   "outputs": [],
   "source": [
    "plt.plot(t, x_meas)"
   ]
  },
  {
   "cell_type": "code",
   "execution_count": null,
   "id": "674fe52e-067e-4ab0-bbf0-56694ad0a23e",
   "metadata": {},
   "outputs": [],
   "source": [
    "g0 = 1/0.0004\n",
    "w0 = 2*np.pi/0.0002\n",
    "o0 = 5.1\n",
    "A0 = 0.9\n",
    "\n",
    "p0 = [A0, g0, w0, o0]\n",
    "plt.plot(t, x_meas)\n",
    "\n",
    "p, pcov = curve_fit(model, t, x_meas, p0=p0, sigma=np.ones_like(t)*0.1, absolute_sigma=True)\n",
    "plt.plot(t, model(t, *p))\n",
    "\n",
    "print(list(p))\n",
    "print(list(np.sqrt(np.diagonal(pcov))))"
   ]
  },
  {
   "cell_type": "markdown",
   "id": "6604047d-d62a-4f6e-960e-3f33820754a3",
   "metadata": {},
   "source": [
    "# What was that simulation thing?\n",
    "\n",
    "Scipy has a handy tool called `solve_ivp`; It's a numerical integrator that can solve first order coupled differential equations. Lets look at the [documentation](https://docs.scipy.org/doc/scipy/reference/generated/scipy.integrate.solve_ivp.html).\n",
    "\n",
    "The differential equation for a damped harmonic oscillator is:\n",
    "\n",
    "$$\n",
    "\\frac{d^2x}{dt^2} + 2\\gamma \\frac{dx}{dt} + \\omega_0^2 x = 0\n",
    "\\implies \\frac{d^2x}{dt^2} = - 2\\gamma \\frac{dx}{dt} - \\omega_0^2 x\n",
    "$$\n",
    "\n",
    "But this is a 2nd-order ODE, can we rephrase it as a system of first-order ODEs?\n",
    "\n",
    "Well if we rewrite things like this: \n",
    "\n",
    "$$\n",
    "\\frac{dx}{dt} = x^\\prime\n",
    "$$\n",
    "$$\n",
    "\\frac{dx^\\prime}{dt} = \\frac{d^2x}{dt^2} = -2\\gamma \\frac{dx}{dt} - \\omega_0^2 x = -2\\gamma x^\\prime - \\omega_0^2 x\n",
    "$$\n",
    "\n",
    "Then we have two coupled first-order differential equations in the coordinates $x$ and $x^\\prime$, if we write a function that takes these coordinates and returns their derivatives:"
   ]
  },
  {
   "cell_type": "code",
   "execution_count": null,
   "id": "4aaf7e5f-2146-42e4-afae-fa9421522256",
   "metadata": {},
   "outputs": [],
   "source": [
    "ts = np.linspace(0, 25, 1000)\n",
    "_, (ax1, ax2) = plt.subplots(2, sharex=True)\n",
    "\n",
    "\n",
    "\n",
    "ax2.set_xlim(0, 25)\n",
    "\n",
    "ax1.legend()\n",
    "ax1.set_ylabel('Position')\n",
    "ax2.set_ylabel('Velocity')\n",
    "ax2.set_xlabel('Time')\n",
    "\n",
    "plt.tight_layout()"
   ]
  }
 ],
 "metadata": {
  "kernelspec": {
   "display_name": "Python 3 (ipykernel)",
   "language": "python",
   "name": "python3"
  },
  "language_info": {
   "codemirror_mode": {
    "name": "ipython",
    "version": 3
   },
   "file_extension": ".py",
   "mimetype": "text/x-python",
   "name": "python",
   "nbconvert_exporter": "python",
   "pygments_lexer": "ipython3",
   "version": "3.11.2"
  }
 },
 "nbformat": 4,
 "nbformat_minor": 5
}
